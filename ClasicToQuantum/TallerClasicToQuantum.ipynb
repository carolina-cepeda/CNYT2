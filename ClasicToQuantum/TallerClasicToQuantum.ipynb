{
 "cells": [
  {
   "cell_type": "markdown",
   "id": "1b9eb707-7c83-4f97-ba13-0231912c8306",
   "metadata": {},
   "source": [
    "# Modelling Classical, probabilistic, and Quantum Systems\n",
    "\n",
    "## Classical Discrete Systems\n",
    "![Deterministic System](images/ClassicPhysicalSystem.png)"
   ]
  },
  {
   "cell_type": "markdown",
   "id": "7aa53935-0e35-48f9-a950-8419d2e10552",
   "metadata": {},
   "source": [
    "\n",
    "\n",
    "Modeling the dynamic behaviors and the state of a classical discrete system using matrices and vectors. The state after one click is computed as follows:\n",
    "\n",
    "$$ \n",
    "    \\begin{bmatrix} 0 && 0 && 0 && 0 && 0 && 0 \\\\\n",
    "                   0 && 0 && 0 && 0 && 0 && 0 \\\\\n",
    "                   0 && 1 && 0 && 0 && 0 && 1 \\\\\n",
    "                   0 && 0 && 0 && 1 && 0 && 0 \\\\\n",
    "                   0 && 0 && 1 && 0 && 0 && 0 \\\\\n",
    "                   1 && 0 && 0 && 0 && 1 && 0 \\\\\n",
    "    \\end{bmatrix}\n",
    "    \\begin{bmatrix} 6 \\\\\n",
    "                    2 \\\\\n",
    "                    1 \\\\\n",
    "                    5 \\\\\n",
    "                    3 \\\\\n",
    "                    10 \\\\\n",
    "    \\end{bmatrix}\n",
    "    =\n",
    "    \\begin{bmatrix} 0 \\\\\n",
    "                    0 \\\\\n",
    "                    12 \\\\\n",
    "                    5 \\\\\n",
    "                    1 \\\\\n",
    "                    9 \\\\\n",
    "    \\end{bmatrix}$$"
   ]
  },
  {
   "cell_type": "code",
   "execution_count": null,
   "id": "4b06ce24",
   "metadata": {},
   "outputs": [],
   "source": [
    "%pip install numpy"
   ]
  },
  {
   "cell_type": "code",
   "execution_count": 22,
   "id": "22018a7c",
   "metadata": {},
   "outputs": [
    {
     "name": "stdout",
     "output_type": "stream",
     "text": [
      "Collecting matplotlib\n",
      "  Downloading matplotlib-3.10.1-cp311-cp311-win_amd64.whl.metadata (11 kB)\n",
      "Collecting contourpy>=1.0.1 (from matplotlib)\n",
      "  Using cached contourpy-1.3.1-cp311-cp311-win_amd64.whl.metadata (5.4 kB)\n",
      "Collecting cycler>=0.10 (from matplotlib)\n",
      "  Using cached cycler-0.12.1-py3-none-any.whl.metadata (3.8 kB)\n",
      "Collecting fonttools>=4.22.0 (from matplotlib)\n",
      "  Downloading fonttools-4.56.0-cp311-cp311-win_amd64.whl.metadata (103 kB)\n",
      "Collecting kiwisolver>=1.3.1 (from matplotlib)\n",
      "  Using cached kiwisolver-1.4.8-cp311-cp311-win_amd64.whl.metadata (6.3 kB)\n",
      "Requirement already satisfied: numpy>=1.23 in c:\\users\\karol\\onedrive\\documentos\\github\\cnyt2\\clasictoquantum\\.venv\\lib\\site-packages (from matplotlib) (2.2.3)\n",
      "Requirement already satisfied: packaging>=20.0 in c:\\users\\karol\\onedrive\\documentos\\github\\cnyt2\\clasictoquantum\\.venv\\lib\\site-packages (from matplotlib) (24.2)\n",
      "Collecting pillow>=8 (from matplotlib)\n",
      "  Using cached pillow-11.1.0-cp311-cp311-win_amd64.whl.metadata (9.3 kB)\n",
      "Collecting pyparsing>=2.3.1 (from matplotlib)\n",
      "  Using cached pyparsing-3.2.1-py3-none-any.whl.metadata (5.0 kB)\n",
      "Requirement already satisfied: python-dateutil>=2.7 in c:\\users\\karol\\onedrive\\documentos\\github\\cnyt2\\clasictoquantum\\.venv\\lib\\site-packages (from matplotlib) (2.9.0.post0)\n",
      "Requirement already satisfied: six>=1.5 in c:\\users\\karol\\onedrive\\documentos\\github\\cnyt2\\clasictoquantum\\.venv\\lib\\site-packages (from python-dateutil>=2.7->matplotlib) (1.17.0)\n",
      "Downloading matplotlib-3.10.1-cp311-cp311-win_amd64.whl (8.1 MB)\n",
      "   ---------------------------------------- 0.0/8.1 MB ? eta -:--:--\n",
      "   ---------------------------------------  7.9/8.1 MB 48.4 MB/s eta 0:00:01\n",
      "   ---------------------------------------- 8.1/8.1 MB 38.4 MB/s eta 0:00:00\n",
      "Using cached contourpy-1.3.1-cp311-cp311-win_amd64.whl (219 kB)\n",
      "Using cached cycler-0.12.1-py3-none-any.whl (8.3 kB)\n",
      "Downloading fonttools-4.56.0-cp311-cp311-win_amd64.whl (2.2 MB)\n",
      "   ---------------------------------------- 0.0/2.2 MB ? eta -:--:--\n",
      "   ---------------------------------------- 2.2/2.2 MB 41.3 MB/s eta 0:00:00\n",
      "Using cached kiwisolver-1.4.8-cp311-cp311-win_amd64.whl (71 kB)\n",
      "Using cached pillow-11.1.0-cp311-cp311-win_amd64.whl (2.6 MB)\n",
      "Using cached pyparsing-3.2.1-py3-none-any.whl (107 kB)\n",
      "Installing collected packages: pyparsing, pillow, kiwisolver, fonttools, cycler, contourpy, matplotlib\n",
      "Successfully installed contourpy-1.3.1 cycler-0.12.1 fonttools-4.56.0 kiwisolver-1.4.8 matplotlib-3.10.1 pillow-11.1.0 pyparsing-3.2.1\n",
      "Note: you may need to restart the kernel to use updated packages.\n"
     ]
    }
   ],
   "source": [
    "%pip install matplotlib"
   ]
  },
  {
   "cell_type": "code",
   "execution_count": 6,
   "id": "36c6338e-7e0a-49a2-b34d-d3c14cadcce9",
   "metadata": {},
   "outputs": [
    {
     "name": "stdout",
     "output_type": "stream",
     "text": [
      "Input:  [[0 0 0 0 0 0]\n",
      " [0 0 0 0 0 0]\n",
      " [0 1 0 0 0 1]\n",
      " [0 0 0 1 0 0]\n",
      " [0 0 1 0 0 0]\n",
      " [1 0 0 0 1 0]] [[ 6]\n",
      " [ 2]\n",
      " [ 1]\n",
      " [ 5]\n",
      " [ 3]\n",
      " [10]]\n",
      "Result after one Click:\n",
      " [[ 0]\n",
      " [ 0]\n",
      " [12]\n",
      " [ 5]\n",
      " [ 1]\n",
      " [ 9]]\n"
     ]
    }
   ],
   "source": [
    "import numpy as np\n",
    "\n",
    "# Define two 3x3 complex matrices\n",
    "m1 = np.array([[0,0,0,0,0,0], \n",
    "               [0,0,0,0,0,0], \n",
    "               [0,1,0,0,0,1],\n",
    "               [0,0,0,1,0,0], \n",
    "               [0,0,1,0,0,0], \n",
    "               [1,0,0,0,1,0]])\n",
    "\n",
    "v1 = np.array([[6], [2], [1], [5], [3], [10]])\n",
    "\n",
    "\n",
    "print(\"Input: \", m1,v1)\n",
    "\n",
    "# Multiplying a 3x3 matrix by a 3x1 vector\n",
    "state_after_one_click = np.dot(m1, v1)\n",
    "print(\"Result after one Click:\\n\", state_after_one_click)"
   ]
  },
  {
   "cell_type": "markdown",
   "id": "e57c43d2-c915-4e44-96d8-7ffd835a92fc",
   "metadata": {},
   "source": [
    "![State after two clicks.](images/ClassicPhysicalSystem2.png)\n",
    "\n",
    "The state after two cliks is computed as follows:"
   ]
  },
  {
   "cell_type": "code",
   "execution_count": 8,
   "id": "59a3b269-cabf-4b42-a3f5-43556c45c906",
   "metadata": {},
   "outputs": [
    {
     "name": "stdout",
     "output_type": "stream",
     "text": [
      "Result after two clicks:\n",
      " [[ 0]\n",
      " [ 0]\n",
      " [ 9]\n",
      " [ 5]\n",
      " [12]\n",
      " [ 1]]\n"
     ]
    }
   ],
   "source": [
    "print(\"Result after two clicks:\\n\", np.dot(m1,state_after_one_click))"
   ]
  },
  {
   "cell_type": "markdown",
   "id": "3a108f1a-df36-40c5-9104-19b2bca3b0e7",
   "metadata": {},
   "source": [
    "## Exercises \n",
    "\n"
   ]
  },
  {
   "cell_type": "markdown",
   "id": "380d0d61-9d8f-4412-99e0-c46a7dd4c98c",
   "metadata": {},
   "source": [
    "### Excercise 1:\n",
    "\n",
    "1. Write a program to model the behavior of the probabilistic double slit example depicted in the figure.\n",
    "2. Show the results of the experiment using a bar diagram. Each bar represents the intensity of the light at the specific target.\n",
    "\n",
    "\n",
    "![Probabilistic Double slit.](images/ProbabilisticSystem.png)"
   ]
  },
  {
   "cell_type": "code",
   "execution_count": 18,
   "id": "b8035a51",
   "metadata": {},
   "outputs": [
    {
     "name": "stdout",
     "output_type": "stream",
     "text": [
      "Input:  [[0.         0.         0.         0.         0.         0.\n",
      "  0.         0.        ]\n",
      " [0.5        0.         0.         0.         0.         0.\n",
      "  0.         0.        ]\n",
      " [0.5        0.         0.         0.         0.         0.\n",
      "  0.         0.        ]\n",
      " [0.         0.33333333 0.         1.         0.         0.\n",
      "  0.         0.        ]\n",
      " [0.         0.33333333 0.         0.         1.         0.\n",
      "  0.         0.        ]\n",
      " [0.         0.33333333 0.33333333 0.         0.         1.\n",
      "  0.         0.        ]\n",
      " [0.         0.         0.33333333 0.         0.         0.\n",
      "  1.         0.        ]\n",
      " [0.         0.         0.33333333 0.         0.         0.\n",
      "  0.         1.        ]] [[1]\n",
      " [0]\n",
      " [0]\n",
      " [0]\n",
      " [0]\n",
      " [0]\n",
      " [0]\n",
      " [0]]\n",
      "Result after one Click:\n",
      " [[0. ]\n",
      " [0.5]\n",
      " [0.5]\n",
      " [0. ]\n",
      " [0. ]\n",
      " [0. ]\n",
      " [0. ]\n",
      " [0. ]]\n",
      "Result after 2 clicks\n",
      " [[0.        ]\n",
      " [0.        ]\n",
      " [0.        ]\n",
      " [0.16666667]\n",
      " [0.16666667]\n",
      " [0.33333333]\n",
      " [0.16666667]\n",
      " [0.16666667]]\n"
     ]
    }
   ],
   "source": [
    "import numpy as np\n",
    "\n",
    "# Define two 3x3 complex matrices\n",
    "m1 = np.array([\n",
    "    [0,   0,   0,   0,   0,   0,   0,   0],\n",
    "    [1/2, 0,   0,   0,   0,   0,   0,   0],\n",
    "    [1/2, 0,   0,   0,   0,   0,   0,   0],\n",
    "    [0, 1/3,  0,   1,   0,   0,   0,   0],\n",
    "    [0, 1/3,  0,   0,   1,   0,   0,   0],\n",
    "    [0, 1/3, 1/3,  0,   0,   1,   0,   0],\n",
    "    [0, 0,   1/3,  0,   0,   0,   1,   0],\n",
    "    [0, 0,   1/3,  0,   0,   0,   0,   1]\n",
    "])\n",
    "\n",
    "\n",
    "v1 = np.array([[1], [0], [0], [0], [0], [0],[0],[0]])\n",
    "\n",
    "\n",
    "print(\"Input: \", m1,v1)\n",
    "state_after_click = np.dot(m1, v1)\n",
    "print(\"Result after one Click:\\n\", state_after_click)\n",
    "\n",
    "n= int(input((\"how many clicks do you want to simulate?\")))\n",
    "for i in  range(1,n):\n",
    "    state_after_click = np.dot (m1, state_after_click)\n",
    "    print(f\"Result after {i+1} clicks\\n\",state_after_click)\n"
   ]
  },
  {
   "cell_type": "markdown",
   "id": "22908e20-9e48-474b-97fa-77c83ae951ca",
   "metadata": {},
   "source": [
    "### Excercise 2:\n",
    "\n",
    "1. Write a program to model the behavior of the quantum double slit example depicted in the figure.\n",
    "2. Show the results of the experiment using a bar diagram. Each bar represents the intensity of the light at the specific target.\n",
    "\n",
    "\n",
    "![Probabilistic Double slit.](images/QuantumSystem.png)"
   ]
  },
  {
   "cell_type": "code",
   "execution_count": 19,
   "id": "c12421ce",
   "metadata": {},
   "outputs": [
    {
     "name": "stdout",
     "output_type": "stream",
     "text": [
      "Input:  [[ 0.        +0.j          0.        +0.j          0.        +0.j\n",
      "   0.        +0.j          0.        +0.j          0.        +0.j\n",
      "   0.        +0.j          0.        +0.j        ]\n",
      " [ 0.70710678+0.j          0.        +0.j          0.        +0.j\n",
      "   0.        +0.j          0.        +0.j          0.        +0.j\n",
      "   0.        +0.j          0.        +0.j        ]\n",
      " [ 0.70710678+0.j          0.        +0.j          0.        +0.j\n",
      "   0.        +0.j          0.        +0.j          0.        +0.j\n",
      "   0.        +0.j          0.        +0.j        ]\n",
      " [ 0.        +0.j         -0.40824829+0.40824829j  0.        +0.j\n",
      "   1.        +0.j          0.        +0.j          0.        +0.j\n",
      "   0.        +0.j          0.        +0.j        ]\n",
      " [ 0.        +0.j         -0.40824829-0.40824829j  0.        +0.j\n",
      "   0.        +0.j          1.        +0.j          0.        +0.j\n",
      "   0.        +0.j          0.        +0.j        ]\n",
      " [ 0.        +0.j          0.40824829-0.40824829j -0.40824829+0.40824829j\n",
      "   0.        +0.j          0.        +0.j          1.        +0.j\n",
      "   0.        +0.j          0.        +0.j        ]\n",
      " [ 0.        +0.j          0.        +0.j         -0.40824829-0.40824829j\n",
      "   0.        +0.j          0.        +0.j          0.        +0.j\n",
      "   0.        +0.j          1.        +0.j        ]\n",
      " [ 0.        +0.j          0.        +0.j          0.40824829-0.40824829j\n",
      "   0.        +0.j          0.        +0.j          0.        +0.j\n",
      "   0.        +0.j          1.        +0.j        ]] [[0.        +0.j]\n",
      " [0.70710678+0.j]\n",
      " [0.70710678+0.j]\n",
      " [0.        +0.j]\n",
      " [0.        +0.j]\n",
      " [0.        +0.j]\n",
      " [0.        +0.j]\n",
      " [0.        +0.j]]\n",
      "Result after one Click:\n",
      " [[ 0.        +0.j        ]\n",
      " [ 0.        +0.j        ]\n",
      " [ 0.        +0.j        ]\n",
      " [-0.28867513+0.28867513j]\n",
      " [-0.28867513-0.28867513j]\n",
      " [ 0.        +0.j        ]\n",
      " [-0.28867513-0.28867513j]\n",
      " [ 0.28867513-0.28867513j]]\n",
      "Result after 2 clicks\n",
      " [[ 0.        +0.j        ]\n",
      " [ 0.        +0.j        ]\n",
      " [ 0.        +0.j        ]\n",
      " [-0.28867513+0.28867513j]\n",
      " [-0.28867513-0.28867513j]\n",
      " [ 0.        +0.j        ]\n",
      " [ 0.28867513-0.28867513j]\n",
      " [ 0.28867513-0.28867513j]]\n"
     ]
    }
   ],
   "source": [
    "import numpy as np\n",
    "\n",
    "m1 = np.array([\n",
    "    [0,   0,   0,   0,   0,   0,   0,   0],\n",
    "    [1/np.sqrt(2), 0,   0,   0,   0,   0,   0,   0],\n",
    "    [1/np.sqrt(2), 0,   0,   0,   0,   0,   0,   0],\n",
    "    [0, (-1+1j)/np.sqrt(6),   0,   1, 0 ,   0,   0,   0],\n",
    "    [0, (-1-1j)/np.sqrt(6),  0,   0,   1,  0,   0,   0],\n",
    "    [0, (1-1j)/np.sqrt(6), (-1+1j)/np.sqrt(6),  0,   0,   1, 0,   0],\n",
    "    [0, 0, (-1-1j)/np.sqrt(6),  0,   0,   0,   0,   1],\n",
    "    [0, 0, (1-1j)/np.sqrt(6),  0,   0,   0,   0,   1]\n",
    "], dtype=complex)\n",
    "\n",
    "v1 = np.array([[0],[1/ np.sqrt(2)], [1/np.sqrt(2)], [0], [0], [0], [0], [0]], dtype=complex)\n",
    "\n",
    "print(\"Input: \", m1,v1)\n",
    "state_after_click = np.dot(m1, v1)\n",
    "print(\"Result after one Click:\\n\", state_after_click)\n",
    "\n",
    "n= int(input((\"how many clicks do you want to simulate?\")))\n",
    "for i in  range(1,n):\n",
    "    state_after_click = np.dot (m1, state_after_click)\n",
    "    print(f\"Result after {i+1} clicks\\n\",state_after_click)\n"
   ]
  },
  {
   "cell_type": "markdown",
   "id": "6ba5e85d-74f5-4ea7-868a-20c99b5f02c5",
   "metadata": {},
   "source": [
    "## Exercise 3: Simulating the Double Slit Experiment with Waves\n",
    "\n",
    "### Objective\n",
    "\n",
    "In this exercise, you will create a simulation of the double slit experiment using Python. Unlike particle-based interpretations, you will model light as waves and observe the interference pattern that emerges when waves pass through two slits and overlap on a screen. This simulation will help you visualize how constructive and destructive interference patterns form.\n",
    "\n",
    "### Background\n",
    "\n",
    "The double slit experiment demonstrates the wave-particle duality of light and\n",
    "matter. When coherent light passes through two closely spaced slits, it creates\n",
    "an interference pattern of bright and dark fringes on a detection screen. This\n",
    "pattern results from the constructive and destructive interference of the waves\n",
    "emanating from the slits.\n",
    "\n",
    "### References\n",
    "\n",
    "[Mathematics of Interference](https://phys.libretexts.org/Bookshelves/University_Physics/University_Physics_(OpenStax)/University_Physics_III_-_Optics_and_Modern_Physics_(OpenStax)/03%3A_Interference/3.03%3A_Mathematics_of_Interference)\n",
    "\n",
    "### Task\n",
    "\n",
    "Your task is to simulate the wave interference pattern using Python. Assume each slit acts as a point source of waves that spread out in circular patterns. When these waves overlap, they interfere with each other, creating a pattern of alternating high and low intensity on a screen.\n",
    "\n",
    "### Steps\n",
    "\n",
    "1. **Setup the Environment**: Ensure you have Python installed with the necessary libraries: NumPy for numerical calculations and Matplotlib for plotting.\n",
    "\n",
    "2. **Define Parameters**:\n",
    "   - Define the distance between the slits, the wavelength of the light, the distance from the slits to the screen, and the number of points on the screen where intensity will be calculated.\n",
    "\n",
    "3. **Model the Waves**:\n",
    "   - For simplicity, you can assume the wavefronts are straight lines perpendicular to the direction of propagation. Use the Huygens-Fresnel principle to model each slit as a source of new waves.\n",
    "\n",
    "4. **Calculate Intensity**:\n",
    "   - Use the principle of superposition to calculate the resultant wave amplitude at each point on the screen by summing the contributions from each slit.\n",
    "   - The intensity of light at each point is proportional to the square of the amplitude of the resultant wave.\n",
    "\n",
    "5. **Plot the Results**:\n",
    "   - Plot the calculated intensity pattern on the screen. You should observe a series of bright and dark fringes, demonstrating the interference pattern.\n",
    "\n",
    "### Hints\n",
    "\n",
    "- Use NumPy arrays to efficiently calculate the wave amplitudes and intensities across the screen.\n",
    "- Remember, the phase difference between the waves from the two slits contributes to the constructive (in-phase) and destructive (out-of-phase) interference.\n",
    "\n",
    "\n",
    "\n",
    "\n"
   ]
  },
  {
   "cell_type": "code",
   "execution_count": null,
   "id": "ff00f46c",
   "metadata": {},
   "outputs": [
    {
     "data": {
      "image/png": "[encoded data removed]",
      "text/plain": [
       "<Figure size 1000x600 with 1 Axes>"
      ]
     },
     "metadata": {},
     "output_type": "display_data"
    }
   ],
   "source": [
    "\n",
    "import numpy as np\n",
    "import matplotlib.pyplot as plt\n",
    "\n",
    "# Define parameters\n",
    "slit_distance = .. # distance between the two slits\n",
    "wavelength = .. # wavelength of the light\n",
    "screen_distance = ..  # distance from the slits to the screen\n",
    "screen_width = .. # width of the screen\n",
    "num_points = ..# number of points on the screen to calculate intensity\n",
    "\n",
    "# Calculate wave interference pattern\n",
    "# Hint: Use np.linspace to create an array of points on the screen\n",
    "# and calculate the intensity at each point due to superposition of waves.\n",
    "\n",
    "screen_positions = np.linspace(-screen_width/2, screen_width/2 , num_points)\n",
    "\n",
    "def calculate(screen_positions, slit_distance, wavelength,screen_distance):\n",
    "\n",
    "\n",
    "    path_difference =  (slit_distance * screen_positions) / screen_distance\n",
    "    phase_difference = (2 * np.pi/wavelength) * path_difference\n",
    "\n",
    "    amplitud = 2 *amplitud_single_slit * np.cos( phase_difference/2)\n",
    "\n",
    "    intensity = amplitud**2\n",
    "\n",
    "    return amplitud, intensity\n",
    "\n",
    "amplitud, intensity = calculate (screen_positions, slit_distance, wavelength,screen_distance)\n",
    "# Plot the results\n",
    "plt.figure(figsize=(10, 6))\n",
    "plt.plot(screen_positions, intensity, label='Interference Pattern')\n",
    "plt.xlabel('Position on Screen')\n",
    "plt.ylabel('Intensity')\n",
    "plt.title('Double Slit Experiment Simulation: Wave Interference Pattern')\n",
    "plt.legend()\n",
    "plt.show()"
   ]
  }
 ],
 "metadata": {
  "kernelspec": {
   "display_name": ".venv",
   "language": "python",
   "name": "python3"
  },
  "language_info": {
   "codemirror_mode": {
    "name": "ipython",
    "version": 3
   },
   "file_extension": ".py",
   "mimetype": "text/x-python",
   "name": "python",
   "nbconvert_exporter": "python",
   "pygments_lexer": "ipython3",
   "version": "3.11.0"
  }
 },
 "nbformat": 4,
 "nbformat_minor": 5
}
