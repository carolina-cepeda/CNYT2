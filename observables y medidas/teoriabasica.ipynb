{
 "cells": [
  {
   "cell_type": "markdown",
   "metadata": {},
   "source": [
    "# Simule el primer sistema cuántico descrito en la sección 4.1.\n",
    "\n",
    "El sistema consiste en una partícula confinada a un conjunto discreto de posiciones en una línea. El simulador debe permitir especificar el número de posiciones y un vector ket de estado asignando las amplitudes.\n",
    "\n",
    "1. El sistema debe calcular la probabilidad de encontrarlo en una posición en particular.\n",
    "\n",
    "2. El sistema si se le da otro vector Ket debe buscar la probabilidad de transitar del primer vector al segundo."
   ]
  },
  {
   "cell_type": "code",
   "execution_count": null,
   "metadata": {},
   "outputs": [],
   "source": [
    "%pip install numpy"
   ]
  },
  {
   "cell_type": "code",
   "execution_count": 3,
   "metadata": {},
   "outputs": [
    {
     "name": "stdout",
     "output_type": "stream",
     "text": [
      "Estado 1 normalizado: \n",
      " [0.70710678+0.j 0.70710678+0.j 0.        +0.j 0.        +0.j\n",
      " 0.        +0.j]\n",
      "Estado 2 normalizado:\n",
      " [0.        +0.j 0.70710678+0.j 0.70710678+0.j 0.        +0.j\n",
      " 0.        +0.j]\n",
      "Probabilidad de encontrar la partícula en x1:\n",
      " 0.4999999999999999\n",
      "Probabilidad de transición de ket1 a ket2:\n",
      " 0.2500000000000001\n"
     ]
    }
   ],
   "source": [
    "import numpy as np\n",
    "\n",
    "def normalizacion(ket):\n",
    "    \"\"\" Normalizar un vector ket.\"\"\"\n",
    "    norm = np.linalg.norm(ket)\n",
    "    return ket / norm if norm != 0 else ket\n",
    "\n",
    "def probabilidad(ket, position):\n",
    "    \"\"\" Calcula la probabilidad de encontrar la partícula en una posición dada.\"\"\"\n",
    "    return abs(ket[position])**2\n",
    "\n",
    "def probabilidad_transicion(ket1, ket2):\n",
    "    \"\"\" Calcula la probabilidad de transición entre dos vectores ket usando su amplitud de transicion.\"\"\"\n",
    "    ket1 = normalizacion(ket1)\n",
    "    ket2 = normalizacion(ket2)\n",
    "    productointerno = np.vdot(ket1, ket2)\n",
    "    return abs(productointerno)**2\n",
    "def main():\n",
    "    n = 5  \n",
    "    ket1 = np.array([1, 1, 0, 0, 0], dtype=complex)\n",
    "    ket2 = np.array([0, 1, 1, 0, 0], dtype=complex)\n",
    "\n",
    "    ket1 = normalizacion(ket1)\n",
    "    ket2 = normalizacion(ket2)\n",
    "\n",
    "    print(\"Estado 1 normalizado: \\n\", ket1)\n",
    "    print(\"Estado 2 normalizado:\\n\", ket2)\n",
    "    print(\"Probabilidad de encontrar la partícula en x1:\\n\", probabilidad(ket1, 1))\n",
    "    print(\"Probabilidad de transición de ket1 a ket2:\\n\", probabilidad_transicion(ket1, ket2))\n",
    "main()\n"
   ]
  },
  {
   "cell_type": "markdown",
   "metadata": {},
   "source": [
    "# Complete los retos de programación del capítulo 4.\n",
    "1. Amplitud de transición. El sistema puede recibir dos vectores y calcular la probabilidad de transitar de el uno al otro después de hacer la observación\n",
    "\n",
    "2. Ahora con una matriz que describa un observable y un vector ket, el sistema revisa que la matriz sea hermitiana, y si lo es, calcula la media y la varianza del observable en el estado dado.\n",
    "\n",
    "3. El sistema calcula los valores propios del observable y la probabilidad de que el sistema transite a alguno de los vectores propios después de la observación.\n",
    "\n",
    "4. Se considera la dinámica del sistema. Ahora con una serie de matrices Un el sistema calcula el estado final a partir de un estado inicial."
   ]
  },
  {
   "cell_type": "code",
   "execution_count": null,
   "metadata": {},
   "outputs": [],
   "source": []
  },
  {
   "cell_type": "markdown",
   "metadata": {},
   "source": [
    "# Realice los siguientes problemas e incluyalos como ejemplos\n",
    "Modele en su librería los problemas\n",
    "4.3.1\n",
    "4.3.2\n",
    "4.4.1\n",
    "4.4.2\n",
    "Desarrolle e incluya en el Github una discusión de los ejercicios 4.5.2 y 4.5.3"
   ]
  },
  {
   "cell_type": "markdown",
   "metadata": {},
   "source": [
    "4.33.1 Find all the possible states the system described in Exercise 4.2.2 can transition into afeter a measurement has been carried out.\n"
   ]
  }
 ],
 "metadata": {
  "kernelspec": {
   "display_name": ".venv",
   "language": "python",
   "name": "python3"
  },
  "language_info": {
   "codemirror_mode": {
    "name": "ipython",
    "version": 3
   },
   "file_extension": ".py",
   "mimetype": "text/x-python",
   "name": "python",
   "nbconvert_exporter": "python",
   "pygments_lexer": "ipython3",
   "version": "3.11.0"
  }
 },
 "nbformat": 4,
 "nbformat_minor": 2
}
