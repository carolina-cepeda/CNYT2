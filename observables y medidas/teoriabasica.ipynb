{
 "cells": [
  {
   "cell_type": "markdown",
   "metadata": {},
   "source": [
    "# Simule el primer sistema cuántico descrito en la sección 4.1.\n",
    "\n",
    "El sistema consiste en una partícula confinada a un conjunto discreto de posiciones en una línea. El simulador debe permitir especificar el número de posiciones y un vector ket de estado asignando las amplitudes.\n",
    "\n",
    "1. El sistema debe calcular la probabilidad de encontrarlo en una posición en particular.\n",
    "\n",
    "2. El sistema si se le da otro vector Ket debe buscar la probabilidad de transitar del primer vector al segundo."
   ]
  },
  {
   "cell_type": "code",
   "execution_count": null,
   "metadata": {},
   "outputs": [],
   "source": [
    "%pip install numpy\n",
    "%pip install matplotlib"
   ]
  },
  {
   "cell_type": "code",
   "execution_count": 3,
   "metadata": {},
   "outputs": [
    {
     "name": "stdout",
     "output_type": "stream",
     "text": [
      "Estado 1 normalizado: \n",
      " [0.70710678+0.j 0.70710678+0.j 0.        +0.j 0.        +0.j\n",
      " 0.        +0.j]\n",
      "Estado 2 normalizado:\n",
      " [0.        +0.j 0.70710678+0.j 0.70710678+0.j 0.        +0.j\n",
      " 0.        +0.j]\n",
      "Probabilidad de encontrar la partícula en x1:\n",
      " 0.4999999999999999\n",
      "Probabilidad de transición de ket1 a ket2:\n",
      " 0.2500000000000001\n"
     ]
    }
   ],
   "source": [
    "import numpy as np\n",
    "\n",
    "def normalizacion(ket):\n",
    "    \"\"\" Normalizar un vector ket.\"\"\"\n",
    "    norm = np.linalg.norm(ket)\n",
    "    return ket / norm if norm != 0 else ket\n",
    "\n",
    "def probabilidad(ket, position):\n",
    "    \"\"\" Calcula la probabilidad de encontrar la partícula en una posición dada.\"\"\"\n",
    "    return abs(ket[position])**2\n",
    "\n",
    "def probabilidad_transicion(ket1, ket2):\n",
    "    \"\"\" Calcula la probabilidad de transición entre dos vectores ket usando su amplitud de transicion.\"\"\"\n",
    "    ket1 = normalizacion(ket1)\n",
    "    ket2 = normalizacion(ket2)\n",
    "    productointerno = np.vdot(ket1, ket2)\n",
    "    return abs(productointerno)**2\n",
    "def main():\n",
    "    n = 5  \n",
    "    ket1 = np.array([1, 1, 0, 0, 0], dtype=complex)\n",
    "    ket2 = np.array([0, 1, 1, 0, 0], dtype=complex)\n",
    "\n",
    "    ket1 = normalizacion(ket1)\n",
    "    ket2 = normalizacion(ket2)\n",
    "\n",
    "    print(\"Estado 1 normalizado: \\n\", ket1)\n",
    "    print(\"Estado 2 normalizado:\\n\", ket2)\n",
    "    print(\"Probabilidad de encontrar la partícula en x1:\\n\", probabilidad(ket1, 1))\n",
    "    print(\"Probabilidad de transición de ket1 a ket2:\\n\", probabilidad_transicion(ket1, ket2))\n",
    "main()\n"
   ]
  },
  {
   "cell_type": "markdown",
   "metadata": {},
   "source": [
    "# Complete los retos de programación del capítulo 4.\n",
    "1. Amplitud de transición. El sistema puede recibir dos vectores y calcular la probabilidad de transitar de el uno al otro después de hacer la observación\n",
    "\n",
    "2. Ahora con una matriz que describa un observable y un vector ket, el sistema revisa que la matriz sea hermitiana, y si lo es, calcula la media y la varianza del observable en el estado dado.\n",
    "\n",
    "3. El sistema calcula los valores propios del observable y la probabilidad de que el sistema transite a alguno de los vectores propios después de la observación.\n",
    "\n",
    "4. Se considera la dinámica del sistema. Ahora con una serie de matrices Un el sistema calcula el estado final a partir de un estado inicial."
   ]
  },
  {
   "cell_type": "code",
   "execution_count": null,
   "metadata": {},
   "outputs": [],
   "source": [
    "\n",
    "\n",
    "## ejercicio 1\n",
    "import numpy as np\n",
    "\n",
    "def normalizacion(ket):\n",
    "    \"\"\" Normalizar un vector\"\"\"\n",
    "    norm = np.linalg.norm(ket)\n",
    "    return ket / norm if norm != 0 else ket\n",
    "\n",
    "def probabilidad(ket1, ket2):\n",
    "    \"\"\"probabilidad de transicion de vector 1 a vector 2\"\"\"\n",
    "    inner_product = np.dot(bra(ket2), ket1)\n",
    "    probability = np.abs(inner_product)**2\n",
    "    return probability\n",
    "\n",
    "def bra(ket):\n",
    "    \"conjugado transpuesto\"\n",
    "    return np.conjugate(ket.T)\n",
    "def main():\n",
    "    print(\"ingrese los vectores\")\n",
    "    v1= list(map(int,input(\"vector\").split()))\n",
    "    v2= list(map(int,input(\"vector\").split()))\n",
    "    ket1 = np.array(v1, dtype=complex)\n",
    "    ket2 = np.array(v2, dtype=complex)\n",
    "    ket1 = normalizacion(ket1)\n",
    "    ket2 = normalizacion(ket2)\n",
    "    print(\"Probabilidad de transición de ket1 a ket2:\", probabilidad(ket1, ket2))\n",
    "main()"
   ]
  },
  {
   "cell_type": "code",
   "execution_count": null,
   "metadata": {},
   "outputs": [
    {
     "name": "stdout",
     "output_type": "stream",
     "text": [
      "Ingrese la matriz (fila por fila, separados por espacios.\n"
     ]
    }
   ],
   "source": [
    "##ejercicio 2\n",
    "\n",
    "import numpy as np\n",
    "\n",
    "def es_hermitiana(matrix):\n",
    "    return np.allclose(matrix, np.conjugate(matrix.T))\n",
    "\n",
    "def media(matrix, ket):\n",
    "    bra = np.conjugate(ket.T)\n",
    "    return np.real(np.dot(bra, np.dot(matrix, ket)))\n",
    "\n",
    "def varianza(matrix, ket):\n",
    "    mean = media(matrix, ket)\n",
    "    identidad = np.eye(matrix.shape[0])\n",
    "    delta = matrix - mean * identidad\n",
    "    var = media(np.dot(delta, delta), ket)\n",
    "    return var\n",
    "\n",
    "def main():\n",
    "    print(\"Ingrese la matriz\")\n",
    "    rows = int(input(\"Número de filas/columnas: \"))\n",
    "    matriz = []\n",
    "    for i in range(rows):\n",
    "        fila = list(map(complex, input(f\"Fila\").split()))\n",
    "        matriz.append(fila)\n",
    "    matriz = np.array(matriz)\n",
    "\n",
    "    print(\"Ingrese el vector ket.\")\n",
    "    ket = list(map(complex, input().split()))\n",
    "    ket = np.array(ket, dtype=complex)\n",
    "\n",
    "    print(\"\\nMatriz observable:\")\n",
    "    print(matriz)\n",
    "    print(\"Ket:\", ket)\n",
    "\n",
    "    if es_hermitiana(matriz):\n",
    "        print(\"La matriz es hermitiana.\")\n",
    "        media = media(matriz, ket)\n",
    "        varianza = varianza(matriz, ket)\n",
    "        print(f\"Media del observable: {media}\")\n",
    "        print(f\"Varianza del observable: {varianza}\")\n",
    "    else:\n",
    "        print(\"La matriz NO es hermitiana.\")\n",
    "main()"
   ]
  },
  {
   "cell_type": "code",
   "execution_count": null,
   "metadata": {},
   "outputs": [],
   "source": [
    "#Ejercicio 3\n",
    "import numpy as np\n",
    "\n",
    "def vPropios_probabilidad(matrix, ket):\n",
    "    valoresPropios, vectoresPropios = np.linalg.eigh(matrix)  # Función para matrices hermitianas\n",
    "    probabilidades = []\n",
    "    for vector in vectoresPropios.T:\n",
    "        amp = np.dot(np.conjugate(vector.T), ket)\n",
    "        prob = np.abs(amp)**2\n",
    "        probabilidades.append(prob)\n",
    "    return valoresPropios, probabilidades\n",
    "def main():\n",
    "    print(\"Ingrese la matriz del observable\")\n",
    "    rows = int(input(\"Número de filas/columnas: \"))\n",
    "    observable = []\n",
    "    for i in range(rows):\n",
    "        fila = list(map(complex, input(f\"Fila\").split()))\n",
    "        observable.append(fila)\n",
    "    observable = np.array(observable)\n",
    "\n",
    "    print(\"Ingrese el vector ket (ejemplo: 1 0):\")\n",
    "    ket = list(map(complex, input().split()))\n",
    "    ket = np.array(ket, dtype=complex)\n",
    "\n",
    "    valoresPropios, probs = vPropios_probabilidad(observable, ket)\n",
    "    print(\"\\nValores propios del observable:\", valoresPropios)\n",
    "    print(\"Probabilidades de transitar a cada vector propio:\")\n",
    "    for i, p in enumerate(probs):\n",
    "        print(f\"  Autovector {i+1}: {p}\")\n",
    "\n",
    "main()"
   ]
  },
  {
   "cell_type": "code",
   "execution_count": null,
   "metadata": {},
   "outputs": [],
   "source": [
    "#Ejercio 4\n",
    "\n",
    "import numpy as np\n",
    "\n",
    "def esUnitaria(U):\n",
    "    identidad = np.eye(U.shape[0])\n",
    "    return np.allclose(np.dot(np.conjugate(U.T), U), identidad)\n",
    "\n",
    "def proximoEstado(U, ket):\n",
    "    return np.dot(U, ket)\n",
    "\n",
    "def main():\n",
    "    print(\"Ingrese la matriz unitaria (fila por fila, separados por espacios\")\n",
    "    rows = int(input(\"Número de filas/columnas: \"))\n",
    "    U = []\n",
    "    for i in range(rows):\n",
    "        fila = list(map(complex, input(f\"Fila\").split()))\n",
    "        U.append(fila)\n",
    "    U = np.array(U)\n",
    "\n",
    "    print(\"Ingrese el vector ket inicial\")\n",
    "    ket = list(map(complex, input().split()))\n",
    "    ket = np.array(ket, dtype=complex)\n",
    "\n",
    "    if esUnitaria(U):\n",
    "        print(\"La matriz es unitaria.\")\n",
    "        final_state = proximoEstado(U, ket)\n",
    "        print(\"Estado final:\", final_state)\n",
    "    else:\n",
    "        print(\"La matriz NO es unitaria.\")\n",
    "main()\n"
   ]
  },
  {
   "cell_type": "markdown",
   "metadata": {},
   "source": [
    "# Realice los siguientes problemas e incluyalos como ejemplos\n",
    "Modele en su librería los problemas\n",
    "4.3.1\n",
    "4.3.2\n",
    "4.4.1\n",
    "4.4.2\n",
    "Desarrolle e incluya en el Github una discusión de los ejercicios 4.5.2 y 4.5.3"
   ]
  },
  {
   "cell_type": "markdown",
   "metadata": {},
   "source": [
    "4.3.1 Find all the possible states the system described in Exercise 4.2.2 can transition into afeter a measurement has been carried out.\n"
   ]
  },
  {
   "cell_type": "code",
   "execution_count": 1,
   "metadata": {},
   "outputs": [
    {
     "name": "stdout",
     "output_type": "stream",
     "text": [
      "Valores propios:\n",
      "[ 0.5 -0.5]\n",
      "\n",
      "Vectores propios:\n",
      "[[ 0.70710678 -0.70710678]\n",
      " [ 0.70710678  0.70710678]]\n"
     ]
    }
   ],
   "source": [
    "import numpy as np\n",
    "\n",
    "Sx = (1/2) * np.array([[0, 1], [1, 0]])\n",
    "valores_propios, vectores_propios = np.linalg.eig(Sx)\n",
    "\n",
    "# Mostrar resultados\n",
    "print(\"Valores propios:\")\n",
    "print(valores_propios)\n",
    "\n",
    "print(\"\\nVectores propios:\")\n",
    "print(vectores_propios)\n"
   ]
  },
  {
   "cell_type": "markdown",
   "metadata": {},
   "source": [
    "Ejercicio 4.3.2 basado en 4.3.1"
   ]
  },
  {
   "cell_type": "code",
   "execution_count": 6,
   "metadata": {},
   "outputs": [
    {
     "name": "stdout",
     "output_type": "stream",
     "text": [
      "\n",
      "Probabilidades de transición:\n",
      "Estado propio 1: 0.5000\n",
      "Estado propio 2: 0.5000\n"
     ]
    },
    {
     "data": {
      "image/png": "[encoded data removed]",
      "text/plain": [
       "<Figure size 640x480 with 1 Axes>"
      ]
     },
     "metadata": {},
     "output_type": "display_data"
    }
   ],
   "source": [
    "import numpy as np\n",
    "import matplotlib.pyplot as plt\n",
    "\n",
    "Sx = (1/2) * np.array([[0, 1], [1, 0]])\n",
    "\n",
    "valores_propios, vectores_propios = np.linalg.eig(Sx)\n",
    "\n",
    "psi = np.array([1, 0])  \n",
    "probabilidades = []\n",
    "for vi in vectores_propios.T: \n",
    "    amplitud_transicion = np.dot(np.conjugate(vi), psi) \n",
    "    probabilidad = np.abs(amplitud_transicion) ** 2  \n",
    "    probabilidades.append(probabilidad)\n",
    "\n",
    "\n",
    "print(\"\\nProbabilidades de transición:\")\n",
    "for i, p in enumerate(probabilidades):\n",
    "    print(f\"Estado propio {i+1}: {p:.4f}\")\n",
    "\n",
    "estados = [f\"Estado {i+1}\" for i in range(len(probabilidades))]\n",
    "plt.bar(estados, probabilidades, color=['blue', 'purple'])\n",
    "plt.xlabel(\"Estados propios\")\n",
    "plt.ylabel(\"Probabilidad\")\n",
    "plt.title(\"Diagrama probabilidades de Transición\")\n",
    "plt.ylim(0, 1)\n",
    "plt.show()\n"
   ]
  },
  {
   "cell_type": "markdown",
   "metadata": {},
   "source": [
    "ejercicio 4.41"
   ]
  },
  {
   "cell_type": "code",
   "execution_count": 9,
   "metadata": {},
   "outputs": [
    {
     "name": "stdout",
     "output_type": "stream",
     "text": [
      "Ejercicio 4.41\n",
      "U1 * U1^†:\n",
      "[[1 0]\n",
      " [0 1]]\n",
      "U2 * U2^†:\n",
      "[[1.00000000e+00 4.26642159e-17]\n",
      " [4.26642159e-17 1.00000000e+00]]\n",
      "\n",
      "Matriz U = U1 * U2:\n",
      "[[ 0.70710678 -0.70710678]\n",
      " [ 0.70710678  0.70710678]]\n",
      "\n",
      "U * U^†:\n",
      "[[1.00000000e+00 4.26642159e-17]\n",
      " [4.26642159e-17 1.00000000e+00]]\n"
     ]
    }
   ],
   "source": [
    "import numpy as np\n",
    "\n",
    "\n",
    "U1 = np.array([[0, 1], [1, 0]])\n",
    "U2 = np.array([[np.sqrt(2)/2, np.sqrt(2)/2], [np.sqrt(2)/2, -np.sqrt(2)/2]])\n",
    "\n",
    "\n",
    "U1_conj_T = np.conjugate(U1).T\n",
    "U2_conj_T = np.conjugate(U2).T\n",
    "\n",
    "print(\"Ejercicio 4.41\")\n",
    "print(\"U1 * U1^†:\")\n",
    "print(np.dot(U1, U1_conj_T))\n",
    "print(\"U2 * U2^†:\")\n",
    "print(np.dot(U2, U2_conj_T))\n",
    "\n",
    "\n",
    "U = np.dot(U1, U2)\n",
    "print(\"\\nMatriz U = U1 * U2:\")\n",
    "print(U)\n",
    "\n",
    "U_conj_T = np.conjugate(U).T\n",
    "print(\"\\nU * U^†:\")\n",
    "print(np.dot(U, U_conj_T))\n"
   ]
  },
  {
   "cell_type": "markdown",
   "metadata": {},
   "source": [
    "ejercicio 4.42"
   ]
  },
  {
   "cell_type": "code",
   "execution_count": null,
   "metadata": {},
   "outputs": [
    {
     "name": "stdout",
     "output_type": "stream",
     "text": [
      "Estado 1\n",
      " [0.        +0.j         0.        +0.70710678j 0.70710678+0.j\n",
      " 0.        +0.j        ]\n",
      "Estado final\n",
      " [ 0.5+0.5j  0. +0.j   0. +0.j  -0.5+0.5j]\n"
     ]
    }
   ],
   "source": [
    "psi = np.array([1, 0, 0, 0])\n",
    "\n",
    "U= np.array([\n",
    "    [0, 1/np.sqrt(2), 1/np.sqrt(2),0],\n",
    "    [1j/np.sqrt(2),0,0,-1/np.sqrt(2)],\n",
    "    [ 1/np.sqrt(2), 0, 0, 1j/np.sqrt(2)],\n",
    "    [0,  1/np.sqrt(2), -1/np.sqrt(2), 0]\n",
    "])\n",
    "\n",
    "estado1 = np.dot(U, psi)\n",
    "\n",
    "print(\"Estado 1\\n\",estado1)\n",
    "\n",
    "estado2= np.dot(U,estado1)\n",
    "print(\"Estado final\\n\",estado2)"
   ]
  },
  {
   "cell_type": "markdown",
   "metadata": {},
   "source": [
    "# Ejercicio 4.5.2: Estado Cuántico de Partículas con Spin\n",
    "\n",
    "## Sistema de 2 partículas con spin\n",
    "Para dos partículas con spin -½, el estado general es:\n",
    "```math\n",
    "|\\psi\\rangle = a|\\uparrow\\uparrow\\rangle + b|\\uparrow\\downarrow\\rangle + c|\\downarrow\\uparrow\\rangle + d|\\downarrow\\downarrow\\rangle\n",
    "```\n",
    "donde a,b,c y d son cosntantes complejas  y la base son las combinaciones de up y down.\n",
    "\n",
    "Para n particulas con spin:\n",
    "```math\n",
    "|\\psi\\rangle = \\sum_{k=0}^{2^n-1} c_k |k\\rangle\n",
    "```\n",
    "donde cada estado |k> representa una combinación de spins y ck representa una constante compleja para este estado k.\n"
   ]
  },
  {
   "cell_type": "markdown",
   "metadata": {},
   "source": [
    "# Ejercicio 4.5.3: Separabilidad de Estados Cuánticos\n",
    "\n",
    "El estado dado es:\n",
    "```math\n",
    "|\\phi\\rangle = |x_0\\rangle \\otimes |y_1\\rangle + |x_1\\rangle \\otimes |y_1\\rangle\n",
    "```\n",
    "Definición: Un estado es separable si puede expresarse como:\n",
    "```math\n",
    "|\\phi\\rangle = (\\text{estado partícula 1}) \\otimes (\\text{estado partícula 2})\n",
    "Procedimiento:\n",
    "```\n",
    "Factorizamos el estado:\n",
    "```math\n",
    "|\\phi\\rangle = (|x_0\\rangle + |x_1\\rangle) \\otimes |y_1\\rangle\n",
    "```\n",
    "Identificamos:\n",
    "\n",
    "Partícula 1: |x₀⟩ + |x₁⟩ (superposición)\n",
    "\n",
    "Partícula 2: |y₁⟩ (estado puro)\n",
    "\n",
    "Conclusión: El estado es separable porque puede escribirse como el producto de dos estados individuales."
   ]
  }
 ],
 "metadata": {
  "kernelspec": {
   "display_name": ".venv",
   "language": "python",
   "name": "python3"
  },
  "language_info": {
   "codemirror_mode": {
    "name": "ipython",
    "version": 3
   },
   "file_extension": ".py",
   "mimetype": "text/x-python",
   "name": "python",
   "nbconvert_exporter": "python",
   "pygments_lexer": "ipython3",
   "version": "3.11.0"
  }
 },
 "nbformat": 4,
 "nbformat_minor": 2
}
